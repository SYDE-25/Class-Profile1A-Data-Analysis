{
 "cells": [
  {
   "cell_type": "code",
   "execution_count": 33,
   "metadata": {},
   "outputs": [],
   "source": [
    "import pandas as pd \n",
    "import seaborn as sns\n",
    "import matplotlib.pyplot as plt\n",
    "%matplotlib inline\n",
    "import numpy as np"
   ]
  },
  {
   "cell_type": "code",
   "execution_count": null,
   "metadata": {
    "scrolled": false
   },
   "outputs": [],
   "source": [
    "class_df = pd.read_csv(\"../sheener/SYDE 1A Class Profile Questions.csv\")\n",
    "class_df.head(10)"
   ]
  },
  {
   "cell_type": "markdown",
   "metadata": {},
   "source": [
    "# Get average difficulty per course"
   ]
  },
  {
   "cell_type": "code",
   "execution_count": 35,
   "metadata": {},
   "outputs": [
    {
     "name": "stdout",
     "output_type": "stream",
     "text": [
      "['How difficult did you find each 1A course to be? [101L]', 'How difficult did you find each 1A course to be? [101]', 'How difficult did you find each 1A course to be? [111]', 'How difficult did you find each 1A course to be? [113]', 'How difficult did you find each 1A course to be? [121]', 'How difficult did you find each 1A course to be? [161]', 'How difficult did you find each 1A course to be? [181]']\n"
     ]
    }
   ],
   "source": [
    "filter_difficulty = [col for col in class_df.columns if col.startswith(\"How difficult\")]\n",
    "print(filter_difficulty)"
   ]
  },
  {
   "cell_type": "code",
   "execution_count": 36,
   "metadata": {},
   "outputs": [
    {
     "name": "stdout",
     "output_type": "stream",
     "text": [
      "['How useful did you find each of the 1A courses to be? [101L]', 'How useful did you find each of the 1A courses to be? [101]', 'How useful did you find each of the 1A courses to be? [111]', 'How useful did you find each of the 1A courses to be? [113]', 'How useful did you find each of the 1A courses to be? [121]', 'How useful did you find each of the 1A courses to be? [161]', 'How useful did you find each of the 1A courses to be? [181]']\n"
     ]
    }
   ],
   "source": [
    "filter_usefulness = [col for col in class_df.columns if col.startswith(\"How useful did\")]\n",
    "print(filter_usefulness)"
   ]
  },
  {
   "cell_type": "code",
   "execution_count": 37,
   "metadata": {},
   "outputs": [
    {
     "data": {
      "text/plain": [
       "array(['100%', '50%', '25%', '75%', '0%', nan], dtype=object)"
      ]
     },
     "execution_count": 37,
     "metadata": {},
     "output_type": "execute_result"
    }
   ],
   "source": [
    "class_df['Roughly what percentage of lectures did you watch for each course?? [111]'].unique()"
   ]
  },
  {
   "cell_type": "code",
   "execution_count": 38,
   "metadata": {},
   "outputs": [],
   "source": [
    "difficulty = {\n",
    "    \"How difficult did you find each 1A course to be? [101L]\": \"101L\",\n",
    "    \"How difficult did you find each 1A course to be? [101]\": \"101\",\n",
    "    \"How difficult did you find each 1A course to be? [111]\": \"111\",\n",
    "    \"How difficult did you find each 1A course to be? [113]\": \"113\",\n",
    "    \"How difficult did you find each 1A course to be? [121]\": \"121\",\n",
    "    \"How difficult did you find each 1A course to be? [161]\": \"161\",\n",
    "    \"How difficult did you find each 1A course to be? [181]\": \"181\",\n",
    "}"
   ]
  },
  {
   "cell_type": "code",
   "execution_count": 39,
   "metadata": {},
   "outputs": [],
   "source": [
    "times = {'Roughly what percentage of lectures did you watch for each course?? [101L]': '101L',\n",
    "       'Roughly what percentage of lectures did you watch for each course?? [101]': '101',\n",
    "       'Roughly what percentage of lectures did you watch for each course?? [111]': '111',\n",
    "       'Roughly what percentage of lectures did you watch for each course?? [113]': '113',\n",
    "       'Roughly what percentage of lectures did you watch for each course?? [121]': '121',\n",
    "       'Roughly what percentage of lectures did you watch for each course?? [161]': '161',\n",
    "       'Roughly what percentage of lectures did you watch for each course?? [181]': '181'}"
   ]
  },
  {
   "cell_type": "code",
   "execution_count": 40,
   "metadata": {},
   "outputs": [],
   "source": [
    "filter_all = filter_difficulty + filter_usefulness\n",
    "useful_difficult_df = class_df[filter_all]"
   ]
  },
  {
   "cell_type": "code",
   "execution_count": null,
   "metadata": {
    "scrolled": false
   },
   "outputs": [],
   "source": [
    "combined_df = useful_difficult_df.replace({\"Easy\": -2, \"Very Useful\": 2, \"Somewhat Easy\": -1, \"Somewhat Useful\": 1, \n",
    "                                       \"Neutral\": 0, \"Somewhat Difficult\": 1, \"Somewhat Useless\": -1, \n",
    "                                       \"Useless\": -2, \"Very Difficult\": 2})\n",
    "                                       \n",
    "nums_df = class_df[difficulty.keys()].replace({\"Easy\": -2, \"Somewhat Easy\": -1,  \n",
    "                                       \"Neutral\": 0, \"Somewhat Difficult\": 1,\"Very Difficult\": 2}).rename(columns=difficulty) \n",
    "time_df = class_df[times.keys()].replace({\"100%\": 100, \"75%\": 75,  \n",
    "                                       \"50%\": 50, \"25%\": 25,\"0%\":0}).rename(columns=times)    \n",
    "time_df"
   ]
  },
  {
   "cell_type": "code",
   "execution_count": 42,
   "metadata": {},
   "outputs": [],
   "source": [
    "#get average grades\n",
    "grades_columns = [ 'What was your final grade for 101L?',\\\n",
    "                'What was your final grade for 101?',\\\n",
    "       'What was your final grade for 111? ',\\\n",
    "       'What was your final grade for 113?',\\\n",
    "       'What was your final grade for 121?',\\\n",
    "       'What was your final grade for 161?',\\\n",
    "       'What was your final grade for 181?']"
   ]
  },
  {
   "cell_type": "code",
   "execution_count": 43,
   "metadata": {},
   "outputs": [],
   "source": [
    "def stack_cols(df,cols_to_stack):\n",
    "    stacked_cols = []\n",
    "    for col in cols_to_stack:\n",
    "        stacked_cols += df[col].tolist()\n",
    "    \n",
    "\n",
    "    return stacked_cols\n",
    "\n"
   ]
  },
  {
   "cell_type": "code",
   "execution_count": 44,
   "metadata": {},
   "outputs": [],
   "source": [
    "#create new df with stacked cols\n",
    "stacked_df = pd.DataFrame()\n",
    "stacked_df[\"difficulties\"] = stack_cols(combined_df,filter_difficulty)\n",
    "stacked_df[\"lectures_attended\"] = stack_cols(time_df,list(times.values()))\n",
    "stacked_df[\"usefulness\"] = stack_cols(combined_df,filter_usefulness)\n",
    "stacked_df[\"grades\"] = stack_cols(class_df,grades_columns)\n",
    "stacked_df.dropna(inplace=True)"
   ]
  },
  {
   "cell_type": "code",
   "execution_count": 45,
   "metadata": {},
   "outputs": [
    {
     "data": {
      "text/html": [
       "<div>\n",
       "<style scoped>\n",
       "    .dataframe tbody tr th:only-of-type {\n",
       "        vertical-align: middle;\n",
       "    }\n",
       "\n",
       "    .dataframe tbody tr th {\n",
       "        vertical-align: top;\n",
       "    }\n",
       "\n",
       "    .dataframe thead th {\n",
       "        text-align: right;\n",
       "    }\n",
       "</style>\n",
       "<table border=\"1\" class=\"dataframe\">\n",
       "  <thead>\n",
       "    <tr style=\"text-align: right;\">\n",
       "      <th></th>\n",
       "      <th>difficulties</th>\n",
       "      <th>lectures_attended</th>\n",
       "      <th>usefulness</th>\n",
       "      <th>grades</th>\n",
       "    </tr>\n",
       "  </thead>\n",
       "  <tbody>\n",
       "    <tr>\n",
       "      <th>difficulties</th>\n",
       "      <td>1.000000</td>\n",
       "      <td>0.208848</td>\n",
       "      <td>0.307916</td>\n",
       "      <td>-0.328524</td>\n",
       "    </tr>\n",
       "    <tr>\n",
       "      <th>lectures_attended</th>\n",
       "      <td>0.208848</td>\n",
       "      <td>1.000000</td>\n",
       "      <td>0.291136</td>\n",
       "      <td>-0.055109</td>\n",
       "    </tr>\n",
       "    <tr>\n",
       "      <th>usefulness</th>\n",
       "      <td>0.307916</td>\n",
       "      <td>0.291136</td>\n",
       "      <td>1.000000</td>\n",
       "      <td>-0.021831</td>\n",
       "    </tr>\n",
       "    <tr>\n",
       "      <th>grades</th>\n",
       "      <td>-0.328524</td>\n",
       "      <td>-0.055109</td>\n",
       "      <td>-0.021831</td>\n",
       "      <td>1.000000</td>\n",
       "    </tr>\n",
       "  </tbody>\n",
       "</table>\n",
       "</div>"
      ],
      "text/plain": [
       "                   difficulties  lectures_attended  usefulness    grades\n",
       "difficulties           1.000000           0.208848    0.307916 -0.328524\n",
       "lectures_attended      0.208848           1.000000    0.291136 -0.055109\n",
       "usefulness             0.307916           0.291136    1.000000 -0.021831\n",
       "grades                -0.328524          -0.055109   -0.021831  1.000000"
      ]
     },
     "execution_count": 45,
     "metadata": {},
     "output_type": "execute_result"
    }
   ],
   "source": [
    "#pearsons\n",
    "stacked_df.corr()"
   ]
  },
  {
   "cell_type": "code",
   "execution_count": 46,
   "metadata": {},
   "outputs": [
    {
     "data": {
      "text/html": [
       "<div>\n",
       "<style scoped>\n",
       "    .dataframe tbody tr th:only-of-type {\n",
       "        vertical-align: middle;\n",
       "    }\n",
       "\n",
       "    .dataframe tbody tr th {\n",
       "        vertical-align: top;\n",
       "    }\n",
       "\n",
       "    .dataframe thead th {\n",
       "        text-align: right;\n",
       "    }\n",
       "</style>\n",
       "<table border=\"1\" class=\"dataframe\">\n",
       "  <thead>\n",
       "    <tr style=\"text-align: right;\">\n",
       "      <th></th>\n",
       "      <th>difficulties</th>\n",
       "      <th>lectures_attended</th>\n",
       "      <th>usefulness</th>\n",
       "      <th>grades</th>\n",
       "    </tr>\n",
       "  </thead>\n",
       "  <tbody>\n",
       "    <tr>\n",
       "      <th>difficulties</th>\n",
       "      <td>1.000000</td>\n",
       "      <td>0.196960</td>\n",
       "      <td>0.271641</td>\n",
       "      <td>-0.317978</td>\n",
       "    </tr>\n",
       "    <tr>\n",
       "      <th>lectures_attended</th>\n",
       "      <td>0.196960</td>\n",
       "      <td>1.000000</td>\n",
       "      <td>0.249319</td>\n",
       "      <td>0.006471</td>\n",
       "    </tr>\n",
       "    <tr>\n",
       "      <th>usefulness</th>\n",
       "      <td>0.271641</td>\n",
       "      <td>0.249319</td>\n",
       "      <td>1.000000</td>\n",
       "      <td>0.013395</td>\n",
       "    </tr>\n",
       "    <tr>\n",
       "      <th>grades</th>\n",
       "      <td>-0.317978</td>\n",
       "      <td>0.006471</td>\n",
       "      <td>0.013395</td>\n",
       "      <td>1.000000</td>\n",
       "    </tr>\n",
       "  </tbody>\n",
       "</table>\n",
       "</div>"
      ],
      "text/plain": [
       "                   difficulties  lectures_attended  usefulness    grades\n",
       "difficulties           1.000000           0.196960    0.271641 -0.317978\n",
       "lectures_attended      0.196960           1.000000    0.249319  0.006471\n",
       "usefulness             0.271641           0.249319    1.000000  0.013395\n",
       "grades                -0.317978           0.006471    0.013395  1.000000"
      ]
     },
     "execution_count": 46,
     "metadata": {},
     "output_type": "execute_result"
    }
   ],
   "source": [
    "#spearman\n",
    "stacked_df.corr(method = \"spearman\")"
   ]
  },
  {
   "cell_type": "code",
   "execution_count": 47,
   "metadata": {},
   "outputs": [
    {
     "name": "stdout",
     "output_type": "stream",
     "text": [
      "101L   -0.340426\n",
      "101    -1.574468\n",
      "111     1.106383\n",
      "113     0.680851\n",
      "121    -0.180851\n",
      "161    -0.191489\n",
      "181    -0.063830\n",
      "dtype: float64\n"
     ]
    }
   ],
   "source": [
    "averaged_nums = nums_df.apply(lambda col: col.mean(), axis=\"rows\")\n",
    "print(averaged_nums)"
   ]
  },
  {
   "cell_type": "code",
   "execution_count": 48,
   "metadata": {},
   "outputs": [
    {
     "data": {
      "text/plain": [
       "101L    60.106383\n",
       "101     51.329787\n",
       "111     79.255319\n",
       "113     72.282609\n",
       "121     66.223404\n",
       "161     45.212766\n",
       "181     80.585106\n",
       "dtype: float64"
      ]
     },
     "execution_count": 48,
     "metadata": {},
     "output_type": "execute_result"
    }
   ],
   "source": [
    "averaged_times = time_df.apply(lambda col: col.mean(), axis=\"rows\")\n",
    "averaged_times"
   ]
  },
  {
   "cell_type": "markdown",
   "metadata": {},
   "source": [
    "# Get average grade per course"
   ]
  },
  {
   "cell_type": "code",
   "execution_count": null,
   "metadata": {
    "scrolled": false
   },
   "outputs": [],
   "source": [
    "grades_df = class_df[grades_columns]\n",
    "grades_df = grades_df.dropna()\n",
    "grades_df"
   ]
  },
  {
   "cell_type": "code",
   "execution_count": 50,
   "metadata": {},
   "outputs": [],
   "source": [
    "mean_val = lambda col : col.mean()\n",
    "\n",
    "mean_grades = grades_df.apply(mean_val, axis=0)"
   ]
  },
  {
   "cell_type": "code",
   "execution_count": 51,
   "metadata": {},
   "outputs": [
    {
     "data": {
      "text/plain": [
       "101L    90.274725\n",
       "101     91.527473\n",
       "111     85.164835\n",
       "113     87.736264\n",
       "121     92.098901\n",
       "161     86.340659\n",
       "181     86.208791\n",
       "dtype: float64"
      ]
     },
     "execution_count": 51,
     "metadata": {},
     "output_type": "execute_result"
    }
   ],
   "source": [
    "mean_grades.index = [(course.split()[-1][:-1]) for course in mean_grades.index ]\n",
    "mean_grades"
   ]
  },
  {
   "cell_type": "code",
   "execution_count": null,
   "metadata": {
    "scrolled": true
   },
   "outputs": [],
   "source": [
    "print(mean_grades.values)\n",
    "nums_df.values"
   ]
  },
  {
   "cell_type": "code",
   "execution_count": 53,
   "metadata": {},
   "outputs": [
    {
     "name": "stdout",
     "output_type": "stream",
     "text": [
      "             Average  Difficulty\n",
      "Average     1.000000   -0.681201\n",
      "Difficulty -0.681201    1.000000\n"
     ]
    },
    {
     "name": "stderr",
     "output_type": "stream",
     "text": [
      "<ipython-input-53-04e37d58d0b1>:13: UserWarning: FixedFormatter should only be used together with FixedLocator\n",
      "  ax.set_yticklabels([\"Very Difficult\",\"\",\"Somewhat Difficult\",\"\",\"Neutral\",\"\",\"Somewhat Easy\",\"\",\"Very Easy\"][::-1])\n"
     ]
    },
    {
     "data": {
      "text/plain": [
       "[(65.0, 100.0), (-2.0, 2.0)]"
      ]
     },
     "execution_count": 53,
     "metadata": {},
     "output_type": "execute_result"
    },
    {
     "data": {
      "image/png": "[encoded data removed]",
      "text/plain": [
       "<Figure size 432x288 with 1 Axes>"
      ]
     },
     "metadata": {},
     "output_type": "display_data"
    }
   ],
   "source": [
    "# change background style\n",
    "sns.set_style(\"darkgrid\")\n",
    "graph1 = pd.DataFrame(index = pd.Index([\"101L\",\"101\",\"111\",\"113\",\"121\",\"161\",\"181\"],name = \"Course\"))\n",
    "graph1[\"Average\"] = mean_grades.values\n",
    "graph1[\"Difficulty\"] = averaged_nums.values\n",
    "print(graph1.corr())\n",
    "# plot data\n",
    "ax = sns.scatterplot(x=mean_grades.values, y=averaged_nums.values, hue = [\"101L\",\"101\",\"111\",\"113\",\"121\",\"161\",\"181\"])\n",
    "ax.set_title(\"Course average vs difficulty\")\n",
    "ax.set_xlabel(\"Average\")\n",
    "ax.set_ylabel(\"Difficulty\")\n",
    "\n",
    "ax.set_yticklabels([\"Very Difficult\",\"\",\"Somewhat Difficult\",\"\",\"Neutral\",\"\",\"Somewhat Easy\",\"\",\"Very Easy\"][::-1])\n",
    "\n",
    "# show x and y axes\n",
    "ax.axvline(color=\"black\")\n",
    "ax.axhline(color=\"black\")\n",
    "\n",
    "# change tick labels\n",
    "plt.legend(loc='upper left')\n",
    "ax.set(xlim=(65 , 100), ylim=(-2,2))\n",
    "# label each point\n",
    "# for line in range(0,averaged_nums_df.shape[0]):\n",
    "#      ax.text(averaged_nums_df.usefulness[line], averaged_nums_df.difficulty[line], averaged_nums_df.index[line], horizontalalignment='left', size='medium', color='black', weight='semibold')"
   ]
  },
  {
   "cell_type": "code",
   "execution_count": 54,
   "metadata": {},
   "outputs": [
    {
     "data": {
      "text/plain": [
       "101L   -0.340426\n",
       "101    -1.574468\n",
       "111     1.106383\n",
       "113     0.680851\n",
       "121    -0.180851\n",
       "161    -0.191489\n",
       "181    -0.063830\n",
       "dtype: float64"
      ]
     },
     "execution_count": 54,
     "metadata": {},
     "output_type": "execute_result"
    }
   ],
   "source": [
    "averaged_nums"
   ]
  },
  {
   "cell_type": "code",
   "execution_count": 55,
   "metadata": {},
   "outputs": [
    {
     "data": {
      "text/plain": [
       "101L    90.274725\n",
       "101     91.527473\n",
       "111     85.164835\n",
       "113     87.736264\n",
       "121     92.098901\n",
       "161     86.340659\n",
       "181     86.208791\n",
       "dtype: float64"
      ]
     },
     "execution_count": 55,
     "metadata": {},
     "output_type": "execute_result"
    }
   ],
   "source": [
    "mean_grades"
   ]
  },
  {
   "cell_type": "code",
   "execution_count": 56,
   "metadata": {},
   "outputs": [
    {
     "name": "stdout",
     "output_type": "stream",
     "text": [
      "           Average  Lectures\n",
      "Average   1.000000 -0.403492\n",
      "Lectures -0.403492  1.000000\n"
     ]
    },
    {
     "data": {
      "text/plain": [
       "[(75.0, 100.0), (40.0, 100.0)]"
      ]
     },
     "execution_count": 56,
     "metadata": {},
     "output_type": "execute_result"
    },
    {
     "data": {
      "image/png": "[encoded data removed]",
      "text/plain": [
       "<Figure size 432x288 with 1 Axes>"
      ]
     },
     "metadata": {},
     "output_type": "display_data"
    }
   ],
   "source": [
    "# change background style\n",
    "sns.set_style(\"darkgrid\")\n",
    "graph2 = pd.DataFrame(index = pd.Index([\"101L\",\"101\",\"111\",\"113\",\"121\",\"161\",\"181\"],name = \"Course\"))\n",
    "graph2[\"Average\"] = mean_grades.values\n",
    "graph2[\"Lectures\"] = averaged_times.values\n",
    "print(graph2.corr())\n",
    "# plot data\n",
    "ax = sns.scatterplot(x=mean_grades.values, y=averaged_times.values, hue = [\"101L\",\"101\",\"111\",\"113\",\"121\",\"161\",\"181\"])\n",
    "ax.set_title(\"Course average vs Amount of Lectures Attended\")\n",
    "ax.set_xlabel(\"Average\")\n",
    "ax.set_ylabel(\"Portion of Lectures Attended (percentage)\")\n",
    "\n",
    "\n",
    "# show x and y axes\n",
    "ax.axvline(color=\"black\")\n",
    "ax.axhline(color=\"black\")\n",
    "\n",
    "# change tick labels\n",
    "plt.legend(loc='upper left')\n",
    "ax.set(xlim=(75 , 100), ylim=(40,100))\n",
    "# label each point\n",
    "# for line in range(0,averaged_nums_df.shape[0]):\n",
    "#      ax.text(averaged_nums_df.usefulness[line], averaged_nums_df.difficulty[line], averaged_nums_df.index[line], horizontalalignment='left', size='medium', color='black', weight='semibold')"
   ]
  },
  {
   "cell_type": "code",
   "execution_count": 57,
   "metadata": {},
   "outputs": [
    {
     "name": "stdout",
     "output_type": "stream",
     "text": [
      "            Lectures  Difficulty\n",
      "Lectures    1.000000    0.674259\n",
      "Difficulty  0.674259    1.000000\n"
     ]
    },
    {
     "name": "stderr",
     "output_type": "stream",
     "text": [
      "<ipython-input-57-d8902c992390>:13: UserWarning: FixedFormatter should only be used together with FixedLocator\n",
      "  ax.set_xticklabels([\"Very Difficult\",\"\",\"Somewhat Difficult\",\"\",\"Neutral\",\"\",\"Somewhat Easy\",\"\",\"Very Easy\"][::-1])\n"
     ]
    },
    {
     "data": {
      "text/plain": [
       "[(-2.0, 2.0), (30.0, 100.0)]"
      ]
     },
     "execution_count": 57,
     "metadata": {},
     "output_type": "execute_result"
    },
    {
     "data": {
      "image/png": "[encoded data removed]",
      "text/plain": [
       "<Figure size 432x288 with 1 Axes>"
      ]
     },
     "metadata": {},
     "output_type": "display_data"
    }
   ],
   "source": [
    "# change background style\n",
    "sns.set_style(\"darkgrid\")\n",
    "graph3 = pd.DataFrame(index = pd.Index([\"101L\",\"101\",\"111\",\"113\",\"121\",\"161\",\"181\"],name = \"Course\"))\n",
    "graph3[\"Lectures\"] = averaged_times.values\n",
    "graph3[\"Difficulty\"] = averaged_nums.values\n",
    "print(graph3.corr())\n",
    "# plot data\n",
    "ax = sns.scatterplot(x=averaged_nums.values, y=averaged_times.values, hue = [\"101L\",\"101\",\"111\",\"113\",\"121\",\"161\",\"181\"])\n",
    "ax.set_title(\"Course Difficulty vs Amount of Lectures Attended\")\n",
    "ax.set_xlabel(\"Difficulty\")\n",
    "ax.set_ylabel(\"Portion of Lectures Attended (percentage)\")\n",
    "\n",
    "ax.set_xticklabels([\"Very Difficult\",\"\",\"Somewhat Difficult\",\"\",\"Neutral\",\"\",\"Somewhat Easy\",\"\",\"Very Easy\"][::-1])\n",
    "# show x and y axes\n",
    "ax.axvline(color=\"black\")\n",
    "ax.axhline(color=\"black\")\n",
    "\n",
    "# change tick labels\n",
    "plt.legend(loc='upper left')\n",
    "ax.set(xlim=(-2 , 2), ylim=(30,100))"
   ]
  },
  {
   "cell_type": "code",
   "execution_count": 58,
   "metadata": {},
   "outputs": [
    {
     "name": "stderr",
     "output_type": "stream",
     "text": [
      "<ipython-input-58-e31fb7fa2497>:5: UserWarning: FixedFormatter should only be used together with FixedLocator\n",
      "  plt.set_yticklabels([\"Very Difficult\",\"\",\"Somewhat Difficult\",\"\",\"Neutral\",\"\",\"Somewhat Easy\",\"\",\"Very Easy\"][::-1])\n"
     ]
    },
    {
     "data": {
      "text/plain": [
       "[(-2.0, 2.0)]"
      ]
     },
     "execution_count": 58,
     "metadata": {},
     "output_type": "execute_result"
    },
    {
     "data": {
      "image/png": "[encoded data removed]",
      "text/plain": [
       "<Figure size 432x288 with 1 Axes>"
      ]
     },
     "metadata": {},
     "output_type": "display_data"
    }
   ],
   "source": [
    "plt = sns.barplot(y = averaged_nums, x = [\"101L\",\"101\",\"111\",\"113\",\"121\",\"161\",\"181\"])\n",
    "plt.set_title(\"Difficulty of courses\")\n",
    "plt.set_xlabel(\"Course Code\")\n",
    "plt.set_ylabel(\"Difficulty (low is easy, high is hard)\")\n",
    "plt.set_yticklabels([\"Very Difficult\",\"\",\"Somewhat Difficult\",\"\",\"Neutral\",\"\",\"Somewhat Easy\",\"\",\"Very Easy\"][::-1])\n",
    "plt.set(ylim = (-2,2))"
   ]
  }
 ],
 "metadata": {
  "kernelspec": {
   "display_name": "Python 3.8.5 64-bit ('base': conda)",
   "language": "python",
   "name": "python385jvsc74a57bd0b90ffb762a7ad0351d04eb18eadfefc9bb2a968fd7a4e98cc0d1a6e05bfe8423"
  },
  "language_info": {
   "codemirror_mode": {
    "name": "ipython",
    "version": 3
   },
   "file_extension": ".py",
   "mimetype": "text/x-python",
   "name": "python",
   "nbconvert_exporter": "python",
   "pygments_lexer": "ipython3",
   "version": "3.8.5"
  },
  "metadata": {
   "interpreter": {
    "hash": "b90ffb762a7ad0351d04eb18eadfefc9bb2a968fd7a4e98cc0d1a6e05bfe8423"
   }
  }
 },
 "nbformat": 4,
 "nbformat_minor": 2
}
